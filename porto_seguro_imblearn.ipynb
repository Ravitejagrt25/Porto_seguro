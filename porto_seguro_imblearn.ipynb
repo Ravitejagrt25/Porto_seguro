{
 "cells": [
  {
   "cell_type": "code",
   "execution_count": 1,
   "metadata": {},
   "outputs": [],
   "source": [
    "import pandas as pd\n",
    "\n",
    "import warnings\n",
    "warnings.filterwarnings('ignore')\n",
    "\n",
    "import matplotlib.pyplot as plt\n",
    "\n",
    "import seaborn as sns           \n",
    "\n",
    "import numpy as np\n",
    "\n",
    "import math\n",
    "\n",
    "pd.set_option('display.max_rows',1600)\n",
    "pd.set_option('display.max_columns',1600)\n"
   ]
  },
  {
   "cell_type": "code",
   "execution_count": 2,
   "metadata": {},
   "outputs": [
    {
     "data": {
      "text/plain": [
       "id                    0\n",
       "ps_ind_01             0\n",
       "ps_ind_02_cat        17\n",
       "ps_ind_03             0\n",
       "ps_ind_04_cat         8\n",
       "ps_ind_05_cat       507\n",
       "ps_ind_06_bin         0\n",
       "ps_ind_07_bin         0\n",
       "ps_ind_08_bin         0\n",
       "ps_ind_09_bin         0\n",
       "ps_ind_10_bin         0\n",
       "ps_ind_11_bin         0\n",
       "ps_ind_12_bin         0\n",
       "ps_ind_13_bin         0\n",
       "ps_ind_14             0\n",
       "ps_ind_15             0\n",
       "ps_ind_16_bin         0\n",
       "ps_ind_17_bin         0\n",
       "ps_ind_18_bin         0\n",
       "ps_reg_01             0\n",
       "ps_reg_02             0\n",
       "ps_reg_03         10118\n",
       "ps_car_01_cat         8\n",
       "ps_car_02_cat         0\n",
       "ps_car_03_cat     38117\n",
       "ps_car_04_cat         0\n",
       "ps_car_05_cat     24582\n",
       "ps_car_06_cat         0\n",
       "ps_car_07_cat      1009\n",
       "ps_car_08_cat         0\n",
       "ps_car_09_cat        53\n",
       "ps_car_10_cat         0\n",
       "ps_car_11_cat         0\n",
       "ps_car_11             0\n",
       "ps_car_12             0\n",
       "ps_car_13             0\n",
       "ps_car_14          3987\n",
       "ps_car_15             0\n",
       "ps_calc_01            0\n",
       "ps_calc_02            0\n",
       "ps_calc_03            0\n",
       "ps_calc_04            0\n",
       "ps_calc_05            0\n",
       "ps_calc_06            0\n",
       "ps_calc_07            0\n",
       "ps_calc_08            0\n",
       "ps_calc_09            0\n",
       "ps_calc_10            0\n",
       "ps_calc_11            0\n",
       "ps_calc_12            0\n",
       "ps_calc_13            0\n",
       "ps_calc_14            0\n",
       "ps_calc_15_bin        0\n",
       "ps_calc_16_bin        0\n",
       "ps_calc_17_bin        0\n",
       "ps_calc_18_bin        0\n",
       "ps_calc_19_bin        0\n",
       "ps_calc_20_bin        0\n",
       "dtype: int64"
      ]
     },
     "execution_count": 2,
     "metadata": {},
     "output_type": "execute_result"
    }
   ],
   "source": [
    "porto_seguro_df=pd.read_csv('porto_seguro_train.csv')\n",
    "porto_seguro_df.shape\n",
    "porto_seguro_df.replace(-1,np.nan,inplace=True)\n",
    "y=porto_seguro_df['target']\n",
    "porto_seguro_df.drop(columns='target',inplace=True)\n",
    "porto_seguro_df.shape\n",
    "porto_seguro_df\n",
    "porto_seguro_df.isnull().sum()"
   ]
  },
  {
   "cell_type": "code",
   "execution_count": 3,
   "metadata": {},
   "outputs": [
    {
     "data": {
      "text/plain": [
       "['ps_car_03_cat']"
      ]
     },
     "execution_count": 3,
     "metadata": {},
     "output_type": "execute_result"
    }
   ],
   "source": [
    "missing_value_df=pd.DataFrame({'Column_Name':porto_seguro_df.columns,\n",
    "                             'missing_value_count':porto_seguro_df.isnull().sum(),\n",
    "                             'missing_value_percent':porto_seguro_df.isnull().sum()/porto_seguro_df.shape[0]*100})\n",
    "\n",
    "missing_value_df.sort_values(by='missing_value_percent',ascending=False)\n",
    "\n",
    "cols_drop=list(missing_value_df[missing_value_df['missing_value_percent']>50]['Column_Name'])\n",
    "cols_drop\n",
    "\n",
    "porto_seguro_df.shape\n",
    "cols_drop"
   ]
  },
  {
   "cell_type": "code",
   "execution_count": 4,
   "metadata": {},
   "outputs": [
    {
     "data": {
      "text/plain": [
       "['ps_car_03_cat', 'id']"
      ]
     },
     "execution_count": 4,
     "metadata": {},
     "output_type": "execute_result"
    }
   ],
   "source": [
    "for col in porto_seguro_df.columns:\n",
    "    if porto_seguro_df[col].nunique()==porto_seguro_df.shape[0] or porto_seguro_df[col].nunique()==1:\n",
    "        cols_drop.append(col)\n",
    "cols_drop"
   ]
  },
  {
   "cell_type": "code",
   "execution_count": 5,
   "metadata": {},
   "outputs": [
    {
     "data": {
      "text/plain": [
       "(55299, 56)"
      ]
     },
     "execution_count": 5,
     "metadata": {},
     "output_type": "execute_result"
    }
   ],
   "source": [
    "porto_seguro_df.drop(columns=cols_drop,inplace=True)\n",
    "porto_seguro_df.shape"
   ]
  },
  {
   "cell_type": "code",
   "execution_count": 6,
   "metadata": {},
   "outputs": [
    {
     "data": {
      "text/plain": [
       "(44239, 56)"
      ]
     },
     "execution_count": 6,
     "metadata": {},
     "output_type": "execute_result"
    }
   ],
   "source": [
    "from sklearn.model_selection import train_test_split\n",
    "\n",
    "X_train,X_test,Y_train,Y_test=train_test_split(porto_seguro_df,y,test_size=0.2,random_state=43)\n",
    "\n",
    "X_train.shape"
   ]
  },
  {
   "cell_type": "code",
   "execution_count": 7,
   "metadata": {},
   "outputs": [
    {
     "data": {
      "text/plain": [
       "ps_ind_01           int64\n",
       "ps_ind_02_cat     float64\n",
       "ps_ind_03           int64\n",
       "ps_ind_04_cat     float64\n",
       "ps_ind_05_cat     float64\n",
       "ps_ind_06_bin       int64\n",
       "ps_ind_07_bin       int64\n",
       "ps_ind_08_bin       int64\n",
       "ps_ind_09_bin       int64\n",
       "ps_ind_10_bin       int64\n",
       "ps_ind_11_bin       int64\n",
       "ps_ind_12_bin       int64\n",
       "ps_ind_13_bin       int64\n",
       "ps_ind_14           int64\n",
       "ps_ind_15           int64\n",
       "ps_ind_16_bin       int64\n",
       "ps_ind_17_bin       int64\n",
       "ps_ind_18_bin       int64\n",
       "ps_reg_01         float64\n",
       "ps_reg_02         float64\n",
       "ps_reg_03         float64\n",
       "ps_car_01_cat     float64\n",
       "ps_car_02_cat       int64\n",
       "ps_car_04_cat       int64\n",
       "ps_car_05_cat     float64\n",
       "ps_car_06_cat       int64\n",
       "ps_car_07_cat     float64\n",
       "ps_car_08_cat       int64\n",
       "ps_car_09_cat     float64\n",
       "ps_car_10_cat       int64\n",
       "ps_car_11_cat       int64\n",
       "ps_car_11           int64\n",
       "ps_car_12         float64\n",
       "ps_car_13         float64\n",
       "ps_car_14         float64\n",
       "ps_car_15         float64\n",
       "ps_calc_01        float64\n",
       "ps_calc_02        float64\n",
       "ps_calc_03        float64\n",
       "ps_calc_04          int64\n",
       "ps_calc_05          int64\n",
       "ps_calc_06          int64\n",
       "ps_calc_07          int64\n",
       "ps_calc_08          int64\n",
       "ps_calc_09          int64\n",
       "ps_calc_10          int64\n",
       "ps_calc_11          int64\n",
       "ps_calc_12          int64\n",
       "ps_calc_13          int64\n",
       "ps_calc_14          int64\n",
       "ps_calc_15_bin      int64\n",
       "ps_calc_16_bin      int64\n",
       "ps_calc_17_bin      int64\n",
       "ps_calc_18_bin      int64\n",
       "ps_calc_19_bin      int64\n",
       "ps_calc_20_bin      int64\n",
       "dtype: object"
      ]
     },
     "execution_count": 7,
     "metadata": {},
     "output_type": "execute_result"
    }
   ],
   "source": [
    "for col in X_train.columns:\n",
    "    if X_train[col].dtype=='object':\n",
    "        X_train[col]=X_train[col].fillna(X_train[col].mode()[0]).astype(object)\n",
    "        X_test[col]=X_test[col].fillna(X_train[col].mode()[0]).astype(object)\n",
    "    \n",
    "    else:\n",
    "        X_train[col]=X_train[col].fillna(X_train[col].mean())\n",
    "        X_test[col]=X_test[col].fillna(X_train[col].mean())\n",
    "        \n",
    "X_train.dtypes"
   ]
  },
  {
   "cell_type": "code",
   "execution_count": 8,
   "metadata": {},
   "outputs": [],
   "source": [
    "from imblearn.over_sampling import SMOTE\n",
    "sm=SMOTE(sampling_strategy='auto',k_neighbors=3)\n",
    "\n",
    "X_train,Y_train=sm.fit_resample(X_train,Y_train)"
   ]
  },
  {
   "cell_type": "code",
   "execution_count": 9,
   "metadata": {},
   "outputs": [],
   "source": [
    "from sklearn.preprocessing import LabelEncoder,MinMaxScaler\n",
    "import numpy as np\n",
    "\n",
    "\n",
    "class LabelEncoderExt(object):\n",
    "    def __init__(self):\n",
    "        \"\"\"\n",
    "        It differs from LabelEncoder by handling new classes and providing a value for it [Unknown]\n",
    "        Unknown will be added in fit and transform will take care of new item. It gives unknown class id\n",
    "        \"\"\"     \n",
    "        self.label_encoder = LabelEncoder()\n",
    "        # self.classes_ = self.label_encoder.classes_\n",
    "\n",
    "    def fit(self, data_list):\n",
    "        \"\"\"\n",
    "        This will fit the encoder for all the unique values and introduce unknown value\n",
    "        :param data_list: A list of string\n",
    "        :return: self\n",
    "        \"\"\"\n",
    "        self.label_encoder = self.label_encoder.fit(list(data_list) + ['Unknown'])\n",
    "        self.classes_ = self.label_encoder.classes_\n",
    "\n",
    "        return self\n",
    "\n",
    "    def transform(self, data_list):\n",
    "        \"\"\"\n",
    "        This will transform the data_list to id list where the new values get assigned to Unknown class\n",
    "        :param data_list:\n",
    "        :return:\n",
    "        \"\"\"\n",
    "        new_data_list = list(data_list)\n",
    "        for unique_item in np.unique(data_list):\n",
    "            if unique_item not in self.label_encoder.classes_:\n",
    "                new_data_list = ['Unknown' if x==unique_item else x for x in new_data_list]\n",
    "\n",
    "        return self.label_encoder.transform(new_data_list)\n",
    "    \n",
    "le=LabelEncoderExt()\n",
    "mm=MinMaxScaler()\n",
    "\n",
    "for col in X_train.columns:\n",
    "    if X_train[col].dtype=='object':\n",
    "        le.fit(X_train[col])\n",
    "        X_train[col]=le.transform(X_train[col])\n",
    "        X_test[col]=le.transform(X_test[col])\n",
    "    else:\n",
    "        mm.fit([X_train[col]])\n",
    "        X_train[col]=mm.fit_transform(np.array(X_train[col]).reshape(-1,1))\n",
    "        X_test[col]=mm.transform(np.array(X_test[col]).reshape(-1,1))\n",
    "\n"
   ]
  },
  {
   "cell_type": "code",
   "execution_count": 10,
   "metadata": {},
   "outputs": [],
   "source": [
    "from sklearn.linear_model import LogisticRegression\n",
    "\n",
    "logreg=LogisticRegression()\n",
    "\n",
    "logreg.fit(X_train,Y_train)\n",
    "\n",
    "Y_pred=logreg.predict(X_test)\n"
   ]
  },
  {
   "cell_type": "code",
   "execution_count": 11,
   "metadata": {},
   "outputs": [
    {
     "name": "stdout",
     "output_type": "stream",
     "text": [
      "0.07228915662650602\n",
      "0.03994673768308921\n",
      "[[9924  721]\n",
      " [ 385   30]]\n",
      "0.05145797598627787\n"
     ]
    }
   ],
   "source": [
    "comparison_df=pd.DataFrame({'Actuals':Y_test,'Predictions':Y_pred})\n",
    "\n",
    "from sklearn.metrics import confusion_matrix,precision_score,recall_score,f1_score,roc_curve,roc_auc_score\n",
    "\n",
    "print(recall_score(Y_test,Y_pred))\n",
    "\n",
    "print(precision_score(Y_test,Y_pred))\n",
    "\n",
    "print(confusion_matrix(Y_test,Y_pred))\n",
    "\n",
    "print(f1_score(Y_test,Y_pred))"
   ]
  },
  {
   "cell_type": "code",
   "execution_count": 12,
   "metadata": {},
   "outputs": [
    {
     "name": "stdout",
     "output_type": "stream",
     "text": [
      "[[10037   387]\n",
      " [  608    28]]\n",
      "0.0440251572327044\n",
      "0.06746987951807229\n",
      "0.0532825880114177\n"
     ]
    }
   ],
   "source": [
    "from sklearn.tree import DecisionTreeClassifier\n",
    "\n",
    "DTC = DecisionTreeClassifier(random_state=0)\n",
    "\n",
    "DTC.fit(X_train,Y_train)\n",
    "\n",
    "Y_DTC_predict=DTC.predict(X_test)\n",
    "\n",
    "print(confusion_matrix(Y_DTC_predict,Y_test))\n",
    "\n",
    "print(recall_score(Y_DTC_predict,Y_test))\n",
    "\n",
    "print(precision_score(Y_DTC_predict,Y_test))\n",
    "\n",
    "print(f1_score(Y_DTC_predict,Y_test))"
   ]
  },
  {
   "cell_type": "code",
   "execution_count": 13,
   "metadata": {},
   "outputs": [
    {
     "name": "stdout",
     "output_type": "stream",
     "text": [
      "Confusion matrix -------- [[10282   390]\n",
      " [  363    25]]\n",
      "recall_score------------- 0.06443298969072164\n",
      "precision_score---------- 0.060240963855421686\n",
      "f1_score----------------- 0.062266500622665005\n"
     ]
    }
   ],
   "source": [
    "from sklearn.ensemble import AdaBoostClassifier\n",
    "\n",
    "ABC=AdaBoostClassifier()\n",
    "\n",
    "ABC.fit(X_train,Y_train)\n",
    "ada_pred=ABC.predict(X_test)\n",
    "\n",
    "ada_pred\n",
    "\n",
    "print('Confusion matrix --------',confusion_matrix(ada_pred,Y_test))\n",
    "\n",
    "print('recall_score-------------',recall_score(ada_pred,Y_test))\n",
    "\n",
    "print('precision_score----------',precision_score(ada_pred,Y_test))\n",
    "\n",
    "print('f1_score-----------------',f1_score(ada_pred,Y_test))"
   ]
  },
  {
   "cell_type": "code",
   "execution_count": 18,
   "metadata": {},
   "outputs": [
    {
     "name": "stdout",
     "output_type": "stream",
     "text": [
      "Confusion matrix -------- [[10470   407]\n",
      " [  175     8]]\n",
      "recall_score------------- 0.04371584699453552\n",
      "precision_score---------- 0.01927710843373494\n",
      "f1_score----------------- 0.026755852842809368\n",
      "0.5395557617977783\n"
     ]
    }
   ],
   "source": [
    "from sklearn.ensemble import RandomForestClassifier\n",
    "\n",
    "RFC = RandomForestClassifier(n_estimators=50,max_depth=10)\n",
    "\n",
    "#cross_val_score(clf, mic, iris.target, cv=10)\n",
    "\n",
    "RFC.fit(X_train,Y_train)\n",
    "\n",
    "Y_RFC_predict=RFC.predict(X_test)\n",
    "\n",
    "print('Confusion matrix --------',confusion_matrix(Y_RFC_predict,Y_test))\n",
    "\n",
    "print('recall_score-------------',recall_score(Y_RFC_predict,Y_test))\n",
    "\n",
    "print('precision_score----------',precision_score(Y_RFC_predict,Y_test))\n",
    "\n",
    "print('f1_score-----------------',f1_score(Y_RFC_predict,Y_test))\n",
    "\n",
    "Y_pred_proba = RFC.predict_proba(X_test)[::,1]\n",
    "\n",
    "fpr,tpr,thresholds=roc_curve(Y_test,Y_pred_proba) # the function roc_curve returns three values, the False Positive Rate,True Positive rate\n",
    "                                                # threshold values it used to calculate the TPR and FPR\n",
    "\n",
    "auc = roc_auc_score(Y_test, Y_pred_proba)\n",
    "\n",
    "print(auc)"
   ]
  },
  {
   "cell_type": "code",
   "execution_count": null,
   "metadata": {},
   "outputs": [],
   "source": []
  },
  {
   "cell_type": "code",
   "execution_count": null,
   "metadata": {},
   "outputs": [],
   "source": []
  }
 ],
 "metadata": {
  "kernelspec": {
   "display_name": "Python 3",
   "language": "python",
   "name": "python3"
  },
  "language_info": {
   "codemirror_mode": {
    "name": "ipython",
    "version": 3
   },
   "file_extension": ".py",
   "mimetype": "text/x-python",
   "name": "python",
   "nbconvert_exporter": "python",
   "pygments_lexer": "ipython3",
   "version": "3.7.4"
  }
 },
 "nbformat": 4,
 "nbformat_minor": 2
}
